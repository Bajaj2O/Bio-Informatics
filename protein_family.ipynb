{
  "nbformat": 4,
  "nbformat_minor": 0,
  "metadata": {
    "colab": {
      "provenance": []
    },
    "kernelspec": {
      "name": "python3",
      "display_name": "Python 3"
    },
    "language_info": {
      "name": "python"
    }
  },
  "cells": [
    {
      "cell_type": "markdown",
      "source": [],
      "metadata": {
        "id": "u1yafN9U_0od"
      }
    },
    {
      "cell_type": "markdown",
      "source": [
        "# **Import Dataset, drop NaN's, select Proteins**\n",
        "This notebooks shows how to classify protein families soley based on their sequence of aminoacids. This work is based on the current success of deep learning models in natural language processing (NLP) and assumes the proteins sequences can be viewed as as a language. Please note, that there are notable search engines such as BLAST for this task.\n",
        "\n",
        "Before we dive into, first some preprocessing of the data:\n",
        "\n",
        "merge on structureId\n",
        "drop rows without labels\n",
        "drop rows without sequence\n",
        "select proteins"
      ],
      "metadata": {
        "id": "V8iPXcvd_vCv"
      }
    },
    {
      "cell_type": "code",
      "execution_count": null,
      "metadata": {
        "id": "XjOuqHWClqjx"
      },
      "outputs": [],
      "source": [
        "import numpy as np\n",
        "import pandas as pd\n",
        "\n",
        "from keras.models import Sequential\n",
        "from keras.layers import Dense, Conv1D, MaxPooling1D, AveragePooling1D, Flatten, SpatialDropout1D, Dropout, GlobalAveragePooling1D, GlobalMaxPooling1D\n",
        "from keras.layers import BatchNormalization  # Updated import path for BatchNormalization layer\n",
        "from keras.layers import LSTM\n",
        "from keras.layers import Embedding\n",
        "\n",
        "# https://machinelearningmastery.com/how-to-stop-training-deep-neural-networks-at-the-right-time-using-early-stopping/\n",
        "from keras.callbacks import EarlyStopping\n",
        "\n",
        "from tensorflow.keras.preprocessing.text import Tokenizer\n",
        "from tensorflow.keras.preprocessing import sequence\n",
        "from sklearn.model_selection import train_test_split\n"
      ]
    },
    {
      "cell_type": "code",
      "source": [
        "# Merge the two Data set together\n",
        "# Drop duplicates (unlike the original script)\n",
        "df = pd.read_csv('pdb_data_no_dups.csv').merge(pd.read_csv('pdb_data_seq.csv'), how='inner', on='structureId').drop_duplicates([\"sequence\"]) # ,\"classification\"\n",
        "# Drop rows with missing labels\n",
        "df = df[[type(c) == type('') for c in df.classification.values]]\n",
        "df = df[[type(c) == type('') for c in df.sequence.values]]\n",
        "# select proteins\n",
        "df = df[df.macromoleculeType_x == 'Protein']\n",
        "df.reset_index()\n",
        "print(df.shape)\n",
        "df.head()"
      ],
      "metadata": {
        "colab": {
          "base_uri": "https://localhost:8080/",
          "height": 469
        },
        "id": "UqqjlnujoPSH",
        "outputId": "412c4bf5-4b94-41b3-e5a7-61e972f90f06"
      },
      "execution_count": null,
      "outputs": [
        {
          "output_type": "stream",
          "name": "stdout",
          "text": [
            "(87761, 18)\n"
          ]
        },
        {
          "output_type": "execute_result",
          "data": {
            "text/plain": [
              "   structureId         classification experimentalTechnique  \\\n",
              "4         101M       OXYGEN TRANSPORT     X-RAY DIFFRACTION   \n",
              "7         102L  HYDROLASE(O-GLYCOSYL)     X-RAY DIFFRACTION   \n",
              "8         102M       OXYGEN TRANSPORT     X-RAY DIFFRACTION   \n",
              "11        103L  HYDROLASE(O-GLYCOSYL)     X-RAY DIFFRACTION   \n",
              "15        104L  HYDROLASE(O-GLYCOSYL)     X-RAY DIFFRACTION   \n",
              "\n",
              "   macromoleculeType_x  residueCount_x  resolution  structureMolecularWeight  \\\n",
              "4              Protein             154        2.07                  18112.80   \n",
              "7              Protein             165        1.74                  18926.61   \n",
              "8              Protein             154        1.84                  18010.64   \n",
              "11             Protein             167        1.90                  19092.72   \n",
              "15             Protein             332        2.80                  37541.04   \n",
              "\n",
              "   crystallizationMethod  crystallizationTempK  densityMatthews  \\\n",
              "4                    NaN                   NaN             3.09   \n",
              "7                    NaN                   NaN             2.75   \n",
              "8                    NaN                   NaN             3.09   \n",
              "11                   NaN                   NaN             2.70   \n",
              "15                   NaN                   NaN             3.04   \n",
              "\n",
              "    densityPercentSol                                        pdbxDetails  \\\n",
              "4               60.20  3.0 M AMMONIUM SULFATE, 20 MM TRIS, 1MM EDTA, ...   \n",
              "7               55.28                                                NaN   \n",
              "8               60.20  3.0 M AMMONIUM SULFATE, 20 MM TRIS, 1MM EDTA, ...   \n",
              "11              54.46                                                NaN   \n",
              "15              59.49                                                NaN   \n",
              "\n",
              "    phValue  publicationYear chainId  \\\n",
              "4       9.0           1999.0       A   \n",
              "7       NaN           1993.0       A   \n",
              "8       9.0           1999.0       A   \n",
              "11      NaN           1993.0       A   \n",
              "15      NaN           1993.0       A   \n",
              "\n",
              "                                             sequence  residueCount_y  \\\n",
              "4   MVLSEGEWQLVLHVWAKVEADVAGHGQDILIRLFKSHPETLEKFDR...             154   \n",
              "7   MNIFEMLRIDEGLRLKIYKDTEGYYTIGIGHLLTKSPSLNAAAKSE...             165   \n",
              "8   MVLSEGEWQLVLHVWAKVEADVAGHGQDILIRLFKSHPETLEKFDR...             154   \n",
              "11  MNIFEMLRIDEGLRLKIYKDTEGYYTIGIGHLLTKSPSLNSLDAAK...             167   \n",
              "15  MNIFEMLRIDEGLRLKIYKDTEGYYTIGIGHLLTKSPSLNAAKSAA...             332   \n",
              "\n",
              "   macromoleculeType_y  \n",
              "4              Protein  \n",
              "7              Protein  \n",
              "8              Protein  \n",
              "11             Protein  \n",
              "15             Protein  "
            ],
            "text/html": [
              "\n",
              "  <div id=\"df-80f51aa9-7ce2-4a3c-b941-85feb2a4c95a\" class=\"colab-df-container\">\n",
              "    <div>\n",
              "<style scoped>\n",
              "    .dataframe tbody tr th:only-of-type {\n",
              "        vertical-align: middle;\n",
              "    }\n",
              "\n",
              "    .dataframe tbody tr th {\n",
              "        vertical-align: top;\n",
              "    }\n",
              "\n",
              "    .dataframe thead th {\n",
              "        text-align: right;\n",
              "    }\n",
              "</style>\n",
              "<table border=\"1\" class=\"dataframe\">\n",
              "  <thead>\n",
              "    <tr style=\"text-align: right;\">\n",
              "      <th></th>\n",
              "      <th>structureId</th>\n",
              "      <th>classification</th>\n",
              "      <th>experimentalTechnique</th>\n",
              "      <th>macromoleculeType_x</th>\n",
              "      <th>residueCount_x</th>\n",
              "      <th>resolution</th>\n",
              "      <th>structureMolecularWeight</th>\n",
              "      <th>crystallizationMethod</th>\n",
              "      <th>crystallizationTempK</th>\n",
              "      <th>densityMatthews</th>\n",
              "      <th>densityPercentSol</th>\n",
              "      <th>pdbxDetails</th>\n",
              "      <th>phValue</th>\n",
              "      <th>publicationYear</th>\n",
              "      <th>chainId</th>\n",
              "      <th>sequence</th>\n",
              "      <th>residueCount_y</th>\n",
              "      <th>macromoleculeType_y</th>\n",
              "    </tr>\n",
              "  </thead>\n",
              "  <tbody>\n",
              "    <tr>\n",
              "      <th>4</th>\n",
              "      <td>101M</td>\n",
              "      <td>OXYGEN TRANSPORT</td>\n",
              "      <td>X-RAY DIFFRACTION</td>\n",
              "      <td>Protein</td>\n",
              "      <td>154</td>\n",
              "      <td>2.07</td>\n",
              "      <td>18112.80</td>\n",
              "      <td>NaN</td>\n",
              "      <td>NaN</td>\n",
              "      <td>3.09</td>\n",
              "      <td>60.20</td>\n",
              "      <td>3.0 M AMMONIUM SULFATE, 20 MM TRIS, 1MM EDTA, ...</td>\n",
              "      <td>9.0</td>\n",
              "      <td>1999.0</td>\n",
              "      <td>A</td>\n",
              "      <td>MVLSEGEWQLVLHVWAKVEADVAGHGQDILIRLFKSHPETLEKFDR...</td>\n",
              "      <td>154</td>\n",
              "      <td>Protein</td>\n",
              "    </tr>\n",
              "    <tr>\n",
              "      <th>7</th>\n",
              "      <td>102L</td>\n",
              "      <td>HYDROLASE(O-GLYCOSYL)</td>\n",
              "      <td>X-RAY DIFFRACTION</td>\n",
              "      <td>Protein</td>\n",
              "      <td>165</td>\n",
              "      <td>1.74</td>\n",
              "      <td>18926.61</td>\n",
              "      <td>NaN</td>\n",
              "      <td>NaN</td>\n",
              "      <td>2.75</td>\n",
              "      <td>55.28</td>\n",
              "      <td>NaN</td>\n",
              "      <td>NaN</td>\n",
              "      <td>1993.0</td>\n",
              "      <td>A</td>\n",
              "      <td>MNIFEMLRIDEGLRLKIYKDTEGYYTIGIGHLLTKSPSLNAAAKSE...</td>\n",
              "      <td>165</td>\n",
              "      <td>Protein</td>\n",
              "    </tr>\n",
              "    <tr>\n",
              "      <th>8</th>\n",
              "      <td>102M</td>\n",
              "      <td>OXYGEN TRANSPORT</td>\n",
              "      <td>X-RAY DIFFRACTION</td>\n",
              "      <td>Protein</td>\n",
              "      <td>154</td>\n",
              "      <td>1.84</td>\n",
              "      <td>18010.64</td>\n",
              "      <td>NaN</td>\n",
              "      <td>NaN</td>\n",
              "      <td>3.09</td>\n",
              "      <td>60.20</td>\n",
              "      <td>3.0 M AMMONIUM SULFATE, 20 MM TRIS, 1MM EDTA, ...</td>\n",
              "      <td>9.0</td>\n",
              "      <td>1999.0</td>\n",
              "      <td>A</td>\n",
              "      <td>MVLSEGEWQLVLHVWAKVEADVAGHGQDILIRLFKSHPETLEKFDR...</td>\n",
              "      <td>154</td>\n",
              "      <td>Protein</td>\n",
              "    </tr>\n",
              "    <tr>\n",
              "      <th>11</th>\n",
              "      <td>103L</td>\n",
              "      <td>HYDROLASE(O-GLYCOSYL)</td>\n",
              "      <td>X-RAY DIFFRACTION</td>\n",
              "      <td>Protein</td>\n",
              "      <td>167</td>\n",
              "      <td>1.90</td>\n",
              "      <td>19092.72</td>\n",
              "      <td>NaN</td>\n",
              "      <td>NaN</td>\n",
              "      <td>2.70</td>\n",
              "      <td>54.46</td>\n",
              "      <td>NaN</td>\n",
              "      <td>NaN</td>\n",
              "      <td>1993.0</td>\n",
              "      <td>A</td>\n",
              "      <td>MNIFEMLRIDEGLRLKIYKDTEGYYTIGIGHLLTKSPSLNSLDAAK...</td>\n",
              "      <td>167</td>\n",
              "      <td>Protein</td>\n",
              "    </tr>\n",
              "    <tr>\n",
              "      <th>15</th>\n",
              "      <td>104L</td>\n",
              "      <td>HYDROLASE(O-GLYCOSYL)</td>\n",
              "      <td>X-RAY DIFFRACTION</td>\n",
              "      <td>Protein</td>\n",
              "      <td>332</td>\n",
              "      <td>2.80</td>\n",
              "      <td>37541.04</td>\n",
              "      <td>NaN</td>\n",
              "      <td>NaN</td>\n",
              "      <td>3.04</td>\n",
              "      <td>59.49</td>\n",
              "      <td>NaN</td>\n",
              "      <td>NaN</td>\n",
              "      <td>1993.0</td>\n",
              "      <td>A</td>\n",
              "      <td>MNIFEMLRIDEGLRLKIYKDTEGYYTIGIGHLLTKSPSLNAAKSAA...</td>\n",
              "      <td>332</td>\n",
              "      <td>Protein</td>\n",
              "    </tr>\n",
              "  </tbody>\n",
              "</table>\n",
              "</div>\n",
              "    <div class=\"colab-df-buttons\">\n",
              "\n",
              "  <div class=\"colab-df-container\">\n",
              "    <button class=\"colab-df-convert\" onclick=\"convertToInteractive('df-80f51aa9-7ce2-4a3c-b941-85feb2a4c95a')\"\n",
              "            title=\"Convert this dataframe to an interactive table.\"\n",
              "            style=\"display:none;\">\n",
              "\n",
              "  <svg xmlns=\"http://www.w3.org/2000/svg\" height=\"24px\" viewBox=\"0 -960 960 960\">\n",
              "    <path d=\"M120-120v-720h720v720H120Zm60-500h600v-160H180v160Zm220 220h160v-160H400v160Zm0 220h160v-160H400v160ZM180-400h160v-160H180v160Zm440 0h160v-160H620v160ZM180-180h160v-160H180v160Zm440 0h160v-160H620v160Z\"/>\n",
              "  </svg>\n",
              "    </button>\n",
              "\n",
              "  <style>\n",
              "    .colab-df-container {\n",
              "      display:flex;\n",
              "      gap: 12px;\n",
              "    }\n",
              "\n",
              "    .colab-df-convert {\n",
              "      background-color: #E8F0FE;\n",
              "      border: none;\n",
              "      border-radius: 50%;\n",
              "      cursor: pointer;\n",
              "      display: none;\n",
              "      fill: #1967D2;\n",
              "      height: 32px;\n",
              "      padding: 0 0 0 0;\n",
              "      width: 32px;\n",
              "    }\n",
              "\n",
              "    .colab-df-convert:hover {\n",
              "      background-color: #E2EBFA;\n",
              "      box-shadow: 0px 1px 2px rgba(60, 64, 67, 0.3), 0px 1px 3px 1px rgba(60, 64, 67, 0.15);\n",
              "      fill: #174EA6;\n",
              "    }\n",
              "\n",
              "    .colab-df-buttons div {\n",
              "      margin-bottom: 4px;\n",
              "    }\n",
              "\n",
              "    [theme=dark] .colab-df-convert {\n",
              "      background-color: #3B4455;\n",
              "      fill: #D2E3FC;\n",
              "    }\n",
              "\n",
              "    [theme=dark] .colab-df-convert:hover {\n",
              "      background-color: #434B5C;\n",
              "      box-shadow: 0px 1px 3px 1px rgba(0, 0, 0, 0.15);\n",
              "      filter: drop-shadow(0px 1px 2px rgba(0, 0, 0, 0.3));\n",
              "      fill: #FFFFFF;\n",
              "    }\n",
              "  </style>\n",
              "\n",
              "    <script>\n",
              "      const buttonEl =\n",
              "        document.querySelector('#df-80f51aa9-7ce2-4a3c-b941-85feb2a4c95a button.colab-df-convert');\n",
              "      buttonEl.style.display =\n",
              "        google.colab.kernel.accessAllowed ? 'block' : 'none';\n",
              "\n",
              "      async function convertToInteractive(key) {\n",
              "        const element = document.querySelector('#df-80f51aa9-7ce2-4a3c-b941-85feb2a4c95a');\n",
              "        const dataTable =\n",
              "          await google.colab.kernel.invokeFunction('convertToInteractive',\n",
              "                                                    [key], {});\n",
              "        if (!dataTable) return;\n",
              "\n",
              "        const docLinkHtml = 'Like what you see? Visit the ' +\n",
              "          '<a target=\"_blank\" href=https://colab.research.google.com/notebooks/data_table.ipynb>data table notebook</a>'\n",
              "          + ' to learn more about interactive tables.';\n",
              "        element.innerHTML = '';\n",
              "        dataTable['output_type'] = 'display_data';\n",
              "        await google.colab.output.renderOutput(dataTable, element);\n",
              "        const docLink = document.createElement('div');\n",
              "        docLink.innerHTML = docLinkHtml;\n",
              "        element.appendChild(docLink);\n",
              "      }\n",
              "    </script>\n",
              "  </div>\n",
              "\n",
              "\n",
              "<div id=\"df-7165a6eb-6d3c-4fed-bc97-72721e47bad4\">\n",
              "  <button class=\"colab-df-quickchart\" onclick=\"quickchart('df-7165a6eb-6d3c-4fed-bc97-72721e47bad4')\"\n",
              "            title=\"Suggest charts\"\n",
              "            style=\"display:none;\">\n",
              "\n",
              "<svg xmlns=\"http://www.w3.org/2000/svg\" height=\"24px\"viewBox=\"0 0 24 24\"\n",
              "     width=\"24px\">\n",
              "    <g>\n",
              "        <path d=\"M19 3H5c-1.1 0-2 .9-2 2v14c0 1.1.9 2 2 2h14c1.1 0 2-.9 2-2V5c0-1.1-.9-2-2-2zM9 17H7v-7h2v7zm4 0h-2V7h2v10zm4 0h-2v-4h2v4z\"/>\n",
              "    </g>\n",
              "</svg>\n",
              "  </button>\n",
              "\n",
              "<style>\n",
              "  .colab-df-quickchart {\n",
              "      --bg-color: #E8F0FE;\n",
              "      --fill-color: #1967D2;\n",
              "      --hover-bg-color: #E2EBFA;\n",
              "      --hover-fill-color: #174EA6;\n",
              "      --disabled-fill-color: #AAA;\n",
              "      --disabled-bg-color: #DDD;\n",
              "  }\n",
              "\n",
              "  [theme=dark] .colab-df-quickchart {\n",
              "      --bg-color: #3B4455;\n",
              "      --fill-color: #D2E3FC;\n",
              "      --hover-bg-color: #434B5C;\n",
              "      --hover-fill-color: #FFFFFF;\n",
              "      --disabled-bg-color: #3B4455;\n",
              "      --disabled-fill-color: #666;\n",
              "  }\n",
              "\n",
              "  .colab-df-quickchart {\n",
              "    background-color: var(--bg-color);\n",
              "    border: none;\n",
              "    border-radius: 50%;\n",
              "    cursor: pointer;\n",
              "    display: none;\n",
              "    fill: var(--fill-color);\n",
              "    height: 32px;\n",
              "    padding: 0;\n",
              "    width: 32px;\n",
              "  }\n",
              "\n",
              "  .colab-df-quickchart:hover {\n",
              "    background-color: var(--hover-bg-color);\n",
              "    box-shadow: 0 1px 2px rgba(60, 64, 67, 0.3), 0 1px 3px 1px rgba(60, 64, 67, 0.15);\n",
              "    fill: var(--button-hover-fill-color);\n",
              "  }\n",
              "\n",
              "  .colab-df-quickchart-complete:disabled,\n",
              "  .colab-df-quickchart-complete:disabled:hover {\n",
              "    background-color: var(--disabled-bg-color);\n",
              "    fill: var(--disabled-fill-color);\n",
              "    box-shadow: none;\n",
              "  }\n",
              "\n",
              "  .colab-df-spinner {\n",
              "    border: 2px solid var(--fill-color);\n",
              "    border-color: transparent;\n",
              "    border-bottom-color: var(--fill-color);\n",
              "    animation:\n",
              "      spin 1s steps(1) infinite;\n",
              "  }\n",
              "\n",
              "  @keyframes spin {\n",
              "    0% {\n",
              "      border-color: transparent;\n",
              "      border-bottom-color: var(--fill-color);\n",
              "      border-left-color: var(--fill-color);\n",
              "    }\n",
              "    20% {\n",
              "      border-color: transparent;\n",
              "      border-left-color: var(--fill-color);\n",
              "      border-top-color: var(--fill-color);\n",
              "    }\n",
              "    30% {\n",
              "      border-color: transparent;\n",
              "      border-left-color: var(--fill-color);\n",
              "      border-top-color: var(--fill-color);\n",
              "      border-right-color: var(--fill-color);\n",
              "    }\n",
              "    40% {\n",
              "      border-color: transparent;\n",
              "      border-right-color: var(--fill-color);\n",
              "      border-top-color: var(--fill-color);\n",
              "    }\n",
              "    60% {\n",
              "      border-color: transparent;\n",
              "      border-right-color: var(--fill-color);\n",
              "    }\n",
              "    80% {\n",
              "      border-color: transparent;\n",
              "      border-right-color: var(--fill-color);\n",
              "      border-bottom-color: var(--fill-color);\n",
              "    }\n",
              "    90% {\n",
              "      border-color: transparent;\n",
              "      border-bottom-color: var(--fill-color);\n",
              "    }\n",
              "  }\n",
              "</style>\n",
              "\n",
              "  <script>\n",
              "    async function quickchart(key) {\n",
              "      const quickchartButtonEl =\n",
              "        document.querySelector('#' + key + ' button');\n",
              "      quickchartButtonEl.disabled = true;  // To prevent multiple clicks.\n",
              "      quickchartButtonEl.classList.add('colab-df-spinner');\n",
              "      try {\n",
              "        const charts = await google.colab.kernel.invokeFunction(\n",
              "            'suggestCharts', [key], {});\n",
              "      } catch (error) {\n",
              "        console.error('Error during call to suggestCharts:', error);\n",
              "      }\n",
              "      quickchartButtonEl.classList.remove('colab-df-spinner');\n",
              "      quickchartButtonEl.classList.add('colab-df-quickchart-complete');\n",
              "    }\n",
              "    (() => {\n",
              "      let quickchartButtonEl =\n",
              "        document.querySelector('#df-7165a6eb-6d3c-4fed-bc97-72721e47bad4 button');\n",
              "      quickchartButtonEl.style.display =\n",
              "        google.colab.kernel.accessAllowed ? 'block' : 'none';\n",
              "    })();\n",
              "  </script>\n",
              "</div>\n",
              "\n",
              "    </div>\n",
              "  </div>\n"
            ],
            "application/vnd.google.colaboratory.intrinsic+json": {
              "type": "dataframe",
              "variable_name": "df",
              "summary": "{\n  \"name\": \"df\",\n  \"rows\": 87761,\n  \"fields\": [\n    {\n      \"column\": \"structureId\",\n      \"properties\": {\n        \"dtype\": \"string\",\n        \"num_unique_values\": 76077,\n        \"samples\": [\n          \"3ICR\",\n          \"1BUJ\",\n          \"1BGC\"\n        ],\n        \"semantic_type\": \"\",\n        \"description\": \"\"\n      }\n    },\n    {\n      \"column\": \"classification\",\n      \"properties\": {\n        \"dtype\": \"category\",\n        \"num_unique_values\": 3956,\n        \"samples\": [\n          \"TRANSFERASE(PHOSPHOTRANSFERASE)\",\n          \"PHOSPHOMONOESTERASE\",\n          \"ISOMERASE, LYASE\"\n        ],\n        \"semantic_type\": \"\",\n        \"description\": \"\"\n      }\n    },\n    {\n      \"column\": \"experimentalTechnique\",\n      \"properties\": {\n        \"dtype\": \"category\",\n        \"num_unique_values\": 22,\n        \"samples\": [\n          \"X-RAY DIFFRACTION\",\n          \"SOLUTION NMR, SOLID-STATE NMR\",\n          \"NEUTRON DIFFRACTION\"\n        ],\n        \"semantic_type\": \"\",\n        \"description\": \"\"\n      }\n    },\n    {\n      \"column\": \"macromoleculeType_x\",\n      \"properties\": {\n        \"dtype\": \"category\",\n        \"num_unique_values\": 1,\n        \"samples\": [\n          \"Protein\"\n        ],\n        \"semantic_type\": \"\",\n        \"description\": \"\"\n      }\n    },\n    {\n      \"column\": \"residueCount_x\",\n      \"properties\": {\n        \"dtype\": \"number\",\n        \"std\": 3173,\n        \"min\": 3,\n        \"max\": 157478,\n        \"num_unique_values\": 3538,\n        \"samples\": [\n          3120\n        ],\n        \"semantic_type\": \"\",\n        \"description\": \"\"\n      }\n    },\n    {\n      \"column\": \"resolution\",\n      \"properties\": {\n        \"dtype\": \"number\",\n        \"std\": 1.513699973262208,\n        \"min\": 0.62,\n        \"max\": 70.0,\n        \"num_unique_values\": 539,\n        \"samples\": [\n          16.4\n        ],\n        \"semantic_type\": \"\",\n        \"description\": \"\"\n      }\n    },\n    {\n      \"column\": \"structureMolecularWeight\",\n      \"properties\": {\n        \"dtype\": \"number\",\n        \"std\": 784431.8452787639,\n        \"min\": 453.55,\n        \"max\": 97730536.0,\n        \"num_unique_values\": 75253,\n        \"samples\": [\n          62908.11\n        ],\n        \"semantic_type\": \"\",\n        \"description\": \"\"\n      }\n    },\n    {\n      \"column\": \"crystallizationMethod\",\n      \"properties\": {\n        \"dtype\": \"category\",\n        \"num_unique_values\": 378,\n        \"samples\": [\n          \"Micro batch method.\"\n        ],\n        \"semantic_type\": \"\",\n        \"description\": \"\"\n      }\n    },\n    {\n      \"column\": \"crystallizationTempK\",\n      \"properties\": {\n        \"dtype\": \"number\",\n        \"std\": 7.920015810543956,\n        \"min\": 4.0,\n        \"max\": 398.0,\n        \"num_unique_values\": 157,\n        \"samples\": [\n          277.1\n        ],\n        \"semantic_type\": \"\",\n        \"description\": \"\"\n      }\n    },\n    {\n      \"column\": \"densityMatthews\",\n      \"properties\": {\n        \"dtype\": \"number\",\n        \"std\": 0.7391038032310591,\n        \"min\": 0.79,\n        \"max\": 13.89,\n        \"num_unique_values\": 620,\n        \"samples\": [\n          3.0\n        ],\n        \"semantic_type\": \"\",\n        \"description\": \"\"\n      }\n    },\n    {\n      \"column\": \"densityPercentSol\",\n      \"properties\": {\n        \"dtype\": \"number\",\n        \"std\": 10.310236803070959,\n        \"min\": 0.28,\n        \"max\": 90.33,\n        \"num_unique_values\": 5381,\n        \"samples\": [\n          40.56\n        ],\n        \"semantic_type\": \"\",\n        \"description\": \"\"\n      }\n    },\n    {\n      \"column\": \"pdbxDetails\",\n      \"properties\": {\n        \"dtype\": \"string\",\n        \"num_unique_values\": 56468,\n        \"samples\": [\n          \"6% PEG 8000, 20 mM (NH4)2SO4, 1X MMT pH 6.5\"\n        ],\n        \"semantic_type\": \"\",\n        \"description\": \"\"\n      }\n    },\n    {\n      \"column\": \"phValue\",\n      \"properties\": {\n        \"dtype\": \"number\",\n        \"std\": 1.3332209569242013,\n        \"min\": 0.0,\n        \"max\": 100.0,\n        \"num_unique_values\": 303,\n        \"samples\": [\n          2.9\n        ],\n        \"semantic_type\": \"\",\n        \"description\": \"\"\n      }\n    },\n    {\n      \"column\": \"publicationYear\",\n      \"properties\": {\n        \"dtype\": \"number\",\n        \"std\": 9.315011384054625,\n        \"min\": 201.0,\n        \"max\": 2018.0,\n        \"num_unique_values\": 48,\n        \"samples\": [\n          2004.0\n        ],\n        \"semantic_type\": \"\",\n        \"description\": \"\"\n      }\n    },\n    {\n      \"column\": \"chainId\",\n      \"properties\": {\n        \"dtype\": \"category\",\n        \"num_unique_values\": 167,\n        \"samples\": [\n          \"Af\"\n        ],\n        \"semantic_type\": \"\",\n        \"description\": \"\"\n      }\n    },\n    {\n      \"column\": \"sequence\",\n      \"properties\": {\n        \"dtype\": \"string\",\n        \"num_unique_values\": 87761,\n        \"samples\": [\n          \"GSHMNAKILKDRRYYYDYDYATRTKKSWLIPSRVYDDGKFTYINMDLTRFPTGNFPAVFAREKEHAEDFLVNTTVEGNTLIVHGTYPFLVVRHGDNVVGLRRNKQK\"\n        ],\n        \"semantic_type\": \"\",\n        \"description\": \"\"\n      }\n    },\n    {\n      \"column\": \"residueCount_y\",\n      \"properties\": {\n        \"dtype\": \"number\",\n        \"std\": 3173,\n        \"min\": 3,\n        \"max\": 157478,\n        \"num_unique_values\": 3538,\n        \"samples\": [\n          3120\n        ],\n        \"semantic_type\": \"\",\n        \"description\": \"\"\n      }\n    },\n    {\n      \"column\": \"macromoleculeType_y\",\n      \"properties\": {\n        \"dtype\": \"category\",\n        \"num_unique_values\": 1,\n        \"samples\": [\n          \"Protein\"\n        ],\n        \"semantic_type\": \"\",\n        \"description\": \"\"\n      }\n    }\n  ]\n}"
            }
          },
          "metadata": {},
          "execution_count": 2
        }
      ]
    },
    {
      "cell_type": "markdown",
      "source": [
        "# remove some longer/shorter sequences\n",
        "the length is very skewed. We'll exclude some of the longer ones (many papers do <300-500 length sequences).\n",
        "\n",
        "For now we'l lleave the peptides (or potential fragments) in, i.e the very short (<30 AA) sequences"
      ],
      "metadata": {
        "id": "0mfyY1JU_2KZ"
      }
    },
    {
      "cell_type": "code",
      "source": [
        "print(df.residueCount_x.quantile(0.9))\n",
        "df.residueCount_x.describe()"
      ],
      "metadata": {
        "colab": {
          "base_uri": "https://localhost:8080/",
          "height": 352
        },
        "id": "OPvMKJzDplEB",
        "outputId": "a5d30c9e-05a6-4b0e-a149-41d4f75102d0"
      },
      "execution_count": null,
      "outputs": [
        {
          "output_type": "stream",
          "name": "stdout",
          "text": [
            "1732.0\n"
          ]
        },
        {
          "output_type": "execute_result",
          "data": {
            "text/plain": [
              "count     87761.000000\n",
              "mean        922.913937\n",
              "std        3173.118920\n",
              "min           3.000000\n",
              "25%         234.000000\n",
              "50%         451.000000\n",
              "75%         880.000000\n",
              "max      157478.000000\n",
              "Name: residueCount_x, dtype: float64"
            ],
            "text/html": [
              "<div>\n",
              "<style scoped>\n",
              "    .dataframe tbody tr th:only-of-type {\n",
              "        vertical-align: middle;\n",
              "    }\n",
              "\n",
              "    .dataframe tbody tr th {\n",
              "        vertical-align: top;\n",
              "    }\n",
              "\n",
              "    .dataframe thead th {\n",
              "        text-align: right;\n",
              "    }\n",
              "</style>\n",
              "<table border=\"1\" class=\"dataframe\">\n",
              "  <thead>\n",
              "    <tr style=\"text-align: right;\">\n",
              "      <th></th>\n",
              "      <th>residueCount_x</th>\n",
              "    </tr>\n",
              "  </thead>\n",
              "  <tbody>\n",
              "    <tr>\n",
              "      <th>count</th>\n",
              "      <td>87761.000000</td>\n",
              "    </tr>\n",
              "    <tr>\n",
              "      <th>mean</th>\n",
              "      <td>922.913937</td>\n",
              "    </tr>\n",
              "    <tr>\n",
              "      <th>std</th>\n",
              "      <td>3173.118920</td>\n",
              "    </tr>\n",
              "    <tr>\n",
              "      <th>min</th>\n",
              "      <td>3.000000</td>\n",
              "    </tr>\n",
              "    <tr>\n",
              "      <th>25%</th>\n",
              "      <td>234.000000</td>\n",
              "    </tr>\n",
              "    <tr>\n",
              "      <th>50%</th>\n",
              "      <td>451.000000</td>\n",
              "    </tr>\n",
              "    <tr>\n",
              "      <th>75%</th>\n",
              "      <td>880.000000</td>\n",
              "    </tr>\n",
              "    <tr>\n",
              "      <th>max</th>\n",
              "      <td>157478.000000</td>\n",
              "    </tr>\n",
              "  </tbody>\n",
              "</table>\n",
              "</div><br><label><b>dtype:</b> float64</label>"
            ]
          },
          "metadata": {},
          "execution_count": 3
        }
      ]
    },
    {
      "cell_type": "code",
      "source": [
        "df = df.loc[df.residueCount_x<1200]\n",
        "print(df.shape[0])\n",
        "df.residueCount_x.describe()"
      ],
      "metadata": {
        "colab": {
          "base_uri": "https://localhost:8080/",
          "height": 352
        },
        "id": "4A_lrRcjpnnS",
        "outputId": "4f482ac2-ec1e-49af-9470-8a144f1ac4d6"
      },
      "execution_count": null,
      "outputs": [
        {
          "output_type": "stream",
          "name": "stdout",
          "text": [
            "73140\n"
          ]
        },
        {
          "output_type": "execute_result",
          "data": {
            "text/plain": [
              "count    73140.000000\n",
              "mean       433.599918\n",
              "std        289.671609\n",
              "min          3.000000\n",
              "25%        198.000000\n",
              "50%        373.000000\n",
              "75%        618.000000\n",
              "max       1198.000000\n",
              "Name: residueCount_x, dtype: float64"
            ],
            "text/html": [
              "<div>\n",
              "<style scoped>\n",
              "    .dataframe tbody tr th:only-of-type {\n",
              "        vertical-align: middle;\n",
              "    }\n",
              "\n",
              "    .dataframe tbody tr th {\n",
              "        vertical-align: top;\n",
              "    }\n",
              "\n",
              "    .dataframe thead th {\n",
              "        text-align: right;\n",
              "    }\n",
              "</style>\n",
              "<table border=\"1\" class=\"dataframe\">\n",
              "  <thead>\n",
              "    <tr style=\"text-align: right;\">\n",
              "      <th></th>\n",
              "      <th>residueCount_x</th>\n",
              "    </tr>\n",
              "  </thead>\n",
              "  <tbody>\n",
              "    <tr>\n",
              "      <th>count</th>\n",
              "      <td>73140.000000</td>\n",
              "    </tr>\n",
              "    <tr>\n",
              "      <th>mean</th>\n",
              "      <td>433.599918</td>\n",
              "    </tr>\n",
              "    <tr>\n",
              "      <th>std</th>\n",
              "      <td>289.671609</td>\n",
              "    </tr>\n",
              "    <tr>\n",
              "      <th>min</th>\n",
              "      <td>3.000000</td>\n",
              "    </tr>\n",
              "    <tr>\n",
              "      <th>25%</th>\n",
              "      <td>198.000000</td>\n",
              "    </tr>\n",
              "    <tr>\n",
              "      <th>50%</th>\n",
              "      <td>373.000000</td>\n",
              "    </tr>\n",
              "    <tr>\n",
              "      <th>75%</th>\n",
              "      <td>618.000000</td>\n",
              "    </tr>\n",
              "    <tr>\n",
              "      <th>max</th>\n",
              "      <td>1198.000000</td>\n",
              "    </tr>\n",
              "  </tbody>\n",
              "</table>\n",
              "</div><br><label><b>dtype:</b> float64</label>"
            ]
          },
          "metadata": {},
          "execution_count": 4
        }
      ]
    },
    {
      "cell_type": "markdown",
      "source": [
        "# **Preprocessing and visualization of dataset**\n",
        "Ideally: For comparison I also decided to focus only on those classes where the number of instances is greater than 1000 (as in this kernel of Akil) which corresponds to the 43 most common classes.\n",
        "\n",
        "But: one hour on 4 CPU is not sufficient for such big datasets, instead only 10 most common classes are considered."
      ],
      "metadata": {
        "id": "TIIAkzGCANWt"
      }
    },
    {
      "cell_type": "code",
      "source": [
        "import matplotlib.pyplot as plt\n",
        "from collections import Counter\n",
        "\n",
        "# Count numbers of instances per class\n",
        "cnt = Counter(df['classification'])\n",
        "# Select only the top K most common classes (10 by default)\n",
        "top_classes = 10\n",
        "# Sort classes\n",
        "sorted_classes = cnt.most_common()[:top_classes]\n",
        "classes = [c[0] for c in sorted_classes]\n",
        "counts = [c[1] for c in sorted_classes]\n",
        "print(\"At least \" + str(counts[-1]) + \" instances per class\")\n",
        "\n",
        "# Apply the filter to the DataFrame\n",
        "print(str(df.shape[0]) + \" instances before\")\n",
        "df = df[df['classification'].isin(classes)]\n",
        "print(str(df.shape[0]) + \" instances after\")\n",
        "\n",
        "# Extract sequences and their lengths\n",
        "seqs = df['sequence'].values\n",
        "lengths = [len(s) for s in seqs]\n",
        "\n",
        "# Visualize\n",
        "fig, axarr = plt.subplots(1, 2, figsize=(20, 5))\n",
        "# Bar plot for class frequency\n",
        "axarr[0].bar(range(len(classes)), counts)\n",
        "plt.sca(axarr[0])\n",
        "plt.xticks(range(len(classes)), classes, rotation='vertical')\n",
        "axarr[0].set_ylabel('Frequency')\n",
        "\n",
        "# Histogram for sequence lengths\n",
        "axarr[1].hist(lengths, bins=50, density=False)\n",
        "axarr[1].set_xlabel('Sequence length')\n",
        "axarr[1].set_ylabel('# Sequences')\n",
        "plt.show()\n"
      ],
      "metadata": {
        "colab": {
          "base_uri": "https://localhost:8080/",
          "height": 617
        },
        "id": "17GtciVUpxPH",
        "outputId": "65cc197c-3796-470e-8560-7ca7c3e21259"
      },
      "execution_count": null,
      "outputs": [
        {
          "output_type": "stream",
          "name": "stdout",
          "text": [
            "At least 1416 instances per class\n",
            "73140 instances before\n",
            "37280 instances after\n"
          ]
        },
        {
          "output_type": "display_data",
          "data": {
            "text/plain": [
              "<Figure size 2000x500 with 2 Axes>"
            ],
            "image/png": "[encoded data removed]"
          },
          "metadata": {}
        }
      ]
    },
    {
      "cell_type": "markdown",
      "source": [
        "# Transform labels\n",
        "First, the dataset is reduced to those samples wich are one of the ten most common classes. The length of sequences ranges from very few amino acids to several thousand amino acids (see plot below).\n",
        "\n",
        "Second, using LabelBinarizer from sklearn.preprocessing transforms the labels in string to one hot representation."
      ],
      "metadata": {
        "id": "jS-CtWVNAS8s"
      }
    },
    {
      "cell_type": "code",
      "source": [
        "from sklearn.preprocessing import LabelBinarizer\n",
        "\n",
        "# Transform labels to one-hot\n",
        "lb = LabelBinarizer()\n",
        "Y = lb.fit_transform(df.classification)"
      ],
      "metadata": {
        "id": "jidcW6ubub1p"
      },
      "execution_count": null,
      "outputs": []
    },
    {
      "cell_type": "markdown",
      "source": [
        "# Further preprocessing of sequences with keras\n",
        "Using the keras library for text processing,\n",
        "\n",
        "Tokenizer: translates every character of the sequence into a number\n",
        "pad_sequences: ensures that every sequence has the same length (max_length). I decided to use a maximum length of 512, which should be sufficient for most sequences. Note: reduced to 256 for computational time reasons.\n",
        "train_test_split: from sklearn splits the data into training and testing samples."
      ],
      "metadata": {
        "id": "g13pWshwAWy0"
      }
    },
    {
      "cell_type": "code",
      "source": [
        "# Define maximum length of the sequences\n",
        "max_length = 350\n",
        "\n",
        "# Create and fit the tokenizer\n",
        "tokenizer = Tokenizer(char_level=True)\n",
        "tokenizer.fit_on_texts(seqs)\n",
        "\n",
        "# Vocabulary size based on tokenizer\n",
        "vocab_size = len(tokenizer.word_index) + 1\n",
        "print(f\"Vocabulary Size: {vocab_size}\")\n",
        "\n",
        "# Convert sequences to integer representation and pad them\n",
        "X = tokenizer.texts_to_sequences(seqs)\n",
        "X = sequence.pad_sequences(X, maxlen=max_length)\n",
        "print(f\"Shape of X after padding: {X.shape}\")  #"
      ],
      "metadata": {
        "colab": {
          "base_uri": "https://localhost:8080/"
        },
        "id": "V6M_bC_JugNw",
        "outputId": "06e024a4-3f1e-4961-af96-caecdaa8654a"
      },
      "execution_count": null,
      "outputs": [
        {
          "output_type": "stream",
          "name": "stdout",
          "text": [
            "Vocabulary Size: 26\n",
            "Shape of X after padding: (37280, 350)\n"
          ]
        }
      ]
    },
    {
      "cell_type": "code",
      "source": [
        "X_train, X_test, y_train, y_test = train_test_split(X, Y, test_size=.2)"
      ],
      "metadata": {
        "id": "uFXVM91Lukwy"
      },
      "execution_count": null,
      "outputs": []
    },
    {
      "cell_type": "code",
      "source": [
        "import tensorflow as tf\n",
        "print(tf.__version__)\n"
      ],
      "metadata": {
        "colab": {
          "base_uri": "https://localhost:8080/"
        },
        "id": "1o6-HkK_xxi3",
        "outputId": "ec69e2ac-9121-468d-a37d-9b24956d52af"
      },
      "execution_count": null,
      "outputs": [
        {
          "output_type": "stream",
          "name": "stdout",
          "text": [
            "2.18.0\n"
          ]
        }
      ]
    },
    {
      "cell_type": "markdown",
      "source": [
        "# Build keras model and fit¶\n",
        "Previous approaches:\n",
        "\n",
        "Kernel of hnike relied on numerical features of the data (with molecule weight, residue count etc.) 90% considering only the three most common classes. Without any claim of generality, some quick tests with this scenario showed superior results.\n",
        "\n",
        "Kernel of abharg used CountVectorizer from sklearn with 4-grams followed by a simple classification model and yielded accuaracy of about 76% considering the first 43 classes (classes where there are more than one thousand samples). Note that this approach is also based soley on the sequence and will be compared with my results.\n",
        "\n",
        "Further improvements\n",
        "Now the most crucial part of this kernel:\n",
        "\n",
        "recent success in NLP suggest to use word embeddings which is already implemented as a keras layer (Embedding). Note that in our case, there are only 20 different words (for each amino acid). Instead of word embedding, one could try a 2D convolution on the one hot representation of the sequence, but this approach focuses on applying NLP-theory to protein sequences.\n",
        "instead of using every n-gram, consider using 1D-convolution on the embedded sequences. The size of the convolutional kernel can be seen as size of n-grams and the number of filters as number of words.\n",
        "to improve performance also a deep architecture (subsequent layers of convolution and pooling) can be used, here two layers, where the first layer has 64 filters with convolutional size of 6 and the second layer has 32 filters of size 3.\n",
        "Flatten and pass activations into fully connceted layers where the last layer is a softmax activation and size corresponding to the number of classes.\n",
        "\n",
        "Likely improvement: filter bank (instead of a linear chain of convolutions)"
      ],
      "metadata": {
        "id": "RQ4nVz05Ab-1"
      }
    },
    {
      "cell_type": "code",
      "source": [
        "embedding_dim = 25 # orig 8\n",
        "\n",
        "# create the model\n",
        "model = Sequential()\n",
        "model.add(Embedding(len(tokenizer.word_index)+1, embedding_dim, input_length=max_length))\n",
        "model.add(Conv1D(filters=128, kernel_size=4, padding='same', activation='relu',dilation_rate=1))\n",
        "# model.add(Conv1D(filters=64, kernel_size=6, padding='same', activation='relu')) #orig\n",
        "model.add(Conv1D(filters=128, kernel_size=5, padding='valid', activation='relu',dilation_rate=1))\n",
        "# model.add(BatchNormalization())\n",
        "# model.add(MaxPooling1D(pool_size=2))\n",
        "model.add(AveragePooling1D(pool_size=2))\n",
        "# model.add(Conv1D(filters=32, kernel_size=3, padding='same', activation='relu')) # orig\n",
        "model.add(Conv1D(filters=128, kernel_size=7, padding='valid', activation='relu',dilation_rate=2))\n",
        "model.add(BatchNormalization())\n",
        "# model.add(MaxPooling1D(pool_size=2))\n",
        "model.add(AveragePooling1D(pool_size=2))\n",
        "\n",
        "# model.add(Flatten()) ## Could do pooling instead\n",
        "# GlobalAveragePooling1D,GlobalMaxPooling1D\n",
        "model.add(GlobalAveragePooling1D())\n",
        "\n",
        "model.add(Dense(256, activation='relu')) # 128\n",
        "model.add(BatchNormalization())\n",
        "model.add(Dense(128, activation='relu')) # 128\n",
        "model.add(BatchNormalization())\n",
        "model.add(Dense(top_classes, activation='softmax'))\n",
        "model.compile(loss='categorical_crossentropy', optimizer='adam', metrics=['accuracy'])\n",
        "print(model.summary())"
      ],
      "metadata": {
        "id": "uy_pj1_23P5v"
      },
      "execution_count": null,
      "outputs": []
    },
    {
      "cell_type": "code",
      "source": [
        "es = EarlyStopping(monitor='val_acc', verbose=1, patience=3)\n",
        "\n",
        "model.fit(X_train, y_train,  batch_size=128, verbose=1, validation_split=0.15,callbacks=[es],epochs=25) # epochs=15, # batch_size=128"
      ],
      "metadata": {
        "id": "gE2imSFX-m43"
      },
      "execution_count": null,
      "outputs": []
    },
    {
      "cell_type": "markdown",
      "source": [
        "Other Models\n",
        "http://nadbordrozd.github.io/blog/2017/08/12/looking-for-the-text-top-model/"
      ],
      "metadata": {
        "id": "23QoKTQWAly-"
      }
    },
    {
      "cell_type": "code",
      "source": [
        "from keras.layers import Conv1D, MaxPooling1D, Concatenate, Input\n",
        "from keras.models import Sequential,Model\n",
        "\n",
        "units = 256\n",
        "num_filters = 32\n",
        "filter_sizes=(3,5, 9,15,21)\n",
        "conv_blocks = []\n",
        "\n",
        "embedding_layer = Embedding(len(tokenizer.word_index)+1, embedding_dim, input_length=max_length)\n",
        "es2 = EarlyStopping(monitor='val_acc', verbose=1, patience=4)\n",
        "\n",
        "sequence_input = Input(shape=(max_length,), dtype='int32')\n",
        "embedded_sequences = embedding_layer(sequence_input)\n",
        "\n",
        "z = Dropout(0.1)(embedded_sequences)\n",
        "\n",
        "for sz in filter_sizes:\n",
        "    conv = Conv1D(\n",
        "        filters=num_filters,\n",
        "        kernel_size=sz,\n",
        "        padding=\"valid\",\n",
        "        activation=\"relu\",\n",
        "        strides=1)(z)\n",
        "    conv = MaxPooling1D(pool_size=2)(conv)\n",
        "    conv = Flatten()(conv)\n",
        "    conv_blocks.append(conv)\n",
        "z = Concatenate()(conv_blocks) if len(conv_blocks) > 1 else conv_blocks[0]\n",
        "z = Dropout(0.25)(z)\n",
        "z = BatchNormalization()(z)\n",
        "z = Dense(units, activation=\"relu\")(z)\n",
        "z = BatchNormalization()(z)\n",
        "predictions = Dense(top_classes, activation=\"softmax\")(z)\n",
        "model2 = Model(sequence_input, predictions)\n",
        "model2.compile(loss='categorical_crossentropy', optimizer='adam', metrics=['accuracy'])\n",
        "print(model2.summary())\n",
        "\n",
        "model2.fit(X_train, y_train,  batch_size=64, verbose=1, validation_split=0.15,callbacks=[es],epochs=30)"
      ],
      "metadata": {
        "id": "nfokM5nD-nmX"
      },
      "execution_count": null,
      "outputs": []
    },
    {
      "cell_type": "code",
      "source": [
        "from sklearn.metrics import confusion_matrix\n",
        "from sklearn.metrics import accuracy_score\n",
        "from sklearn.metrics import classification_report\n",
        "import itertools\n",
        "\n",
        "train_pred = model.predict(X_train)\n",
        "test_pred = model.predict(X_test)\n",
        "print(\"train-acc = \" + str(accuracy_score(np.argmax(y_train, axis=1), np.argmax(train_pred, axis=1))))\n",
        "print(\"test-acc = \" + str(accuracy_score(np.argmax(y_test, axis=1), np.argmax(test_pred, axis=1))))\n",
        "\n",
        "# Compute confusion matrix\n",
        "cm = confusion_matrix(np.argmax(y_test, axis=1), np.argmax(test_pred, axis=1))\n",
        "\n",
        "# Plot normalized confusion matrix\n",
        "cm = cm.astype('float') / cm.sum(axis=1)[:, np.newaxis]\n",
        "np.set_printoptions(precision=2)\n",
        "plt.figure(figsize=(10,10))\n",
        "plt.imshow(cm, interpolation='nearest', cmap=plt.cm.Blues)\n",
        "plt.title('Confusion matrix')\n",
        "plt.colorbar()\n",
        "tick_marks = np.arange(len(lb.classes_))\n",
        "plt.xticks(tick_marks, lb.classes_, rotation=90)\n",
        "plt.yticks(tick_marks, lb.classes_)\n",
        "#for i, j in itertools.product(range(cm.shape[0]), range(cm.shape[1])):\n",
        "#    plt.text(j, i, format(cm[i, j], '.2f'), horizontalalignment=\"center\", color=\"white\" if cm[i, j] > cm.max() / 2. else \"black\")\n",
        "plt.ylabel('True label')\n",
        "plt.xlabel('Predicted label')\n",
        "plt.show()\n",
        "\n",
        "print(classification_report(np.argmax(y_test, axis=1), np.argmax(test_pred, axis=1), target_names=lb.classes_))"
      ],
      "metadata": {
        "id": "UOP1RkHN-r9s"
      },
      "execution_count": null,
      "outputs": []
    },
    {
      "cell_type": "markdown",
      "source": [
        "train-acc = 0.9005498927038627       \n",
        "test-acc = 0.5953594420600858"
      ],
      "metadata": {
        "id": "8YyMcwslBBRB"
      }
    },
    {
      "cell_type": "markdown",
      "source": [
        "                                       precision    recall  f1-score   support\n",
        "\n",
        "                            HYDROLASE       0.92      0.20      0.33      2040\n",
        "                        IMMUNE SYSTEM       0.47      0.78      0.59       803\n",
        "                                LYASE       0.09      0.90      0.16       377\n",
        "                       OXIDOREDUCTASE       0.83      0.05      0.10       946\n",
        "                      PROTEIN BINDING       0.00      0.00      0.00       320\n",
        "                    SIGNALING PROTEIN       0.00      0.00      0.00       415\n",
        "                        TRANSCRIPTION       0.24      0.36      0.28       454\n",
        "                          TRANSFERASE       0.94      0.02      0.04      1466\n",
        "                    TRANSPORT PROTEIN       0.31      0.22      0.26       359\n",
        "\n",
        "                            micro avg       0.24      0.24      0.24      7456\n",
        "                            macro avg       0.39      0.29      0.20      7456\n",
        "                         weighted avg       0.63      0.24      0.22      7456\n"
      ],
      "metadata": {
        "id": "5dUH1h-fA1aA"
      }
    },
    {
      "cell_type": "code",
      "source": [
        "train_pred = model2.predict(X_train)\n",
        "test_pred = model2.predict(X_test)\n",
        "print(\"train-acc = \" + str(accuracy_score(np.argmax(y_train, axis=1), np.argmax(train_pred, axis=1))))\n",
        "print(\"test-acc = \" + str(accuracy_score(np.argmax(y_test, axis=1), np.argmax(test_pred, axis=1))))\n",
        "\n",
        "# Compute confusion matrix\n",
        "cm = confusion_matrix(np.argmax(y_test, axis=1), np.argmax(test_pred, axis=1))\n",
        "\n",
        "# Plot normalized confusion matrix\n",
        "cm = cm.astype('float') / cm.sum(axis=1)[:, np.newaxis]\n",
        "np.set_printoptions(precision=2)\n",
        "plt.figure(figsize=(10,10))\n",
        "plt.imshow(cm, interpolation='nearest', cmap=plt.cm.Blues)\n",
        "plt.title('Confusion matrix')\n",
        "plt.colorbar()\n",
        "tick_marks = np.arange(len(lb.classes_))\n",
        "plt.xticks(tick_marks, lb.classes_, rotation=90)\n",
        "plt.yticks(tick_marks, lb.classes_)\n",
        "#for i, j in itertools.product(range(cm.shape[0]), range(cm.shape[1])):\n",
        "#    plt.text(j, i, format(cm[i, j], '.2f'), horizontalalignment=\"center\", color=\"white\" if cm[i, j] > cm.max() / 2. else \"black\")\n",
        "plt.ylabel('True label')\n",
        "plt.xlabel('Predicted label')\n",
        "plt.show()\n",
        "\n",
        "print(classification_report(np.argmax(y_test, axis=1), np.argmax(test_pred, axis=1), target_names=lb.classes_))"
      ],
      "metadata": {
        "id": "WZSYZZS-_kV0"
      },
      "execution_count": null,
      "outputs": []
    },
    {
      "cell_type": "markdown",
      "source": [
        " precision    recall  f1-score   support\n",
        "\n",
        "                            HYDROLASE       0.70      0.67      0.68      2040\n",
        "                        IMMUNE SYSTEM       0.62      0.85      0.72       803\n",
        "                                LYASE       0.83      0.50      0.62       377\n",
        "                       OXIDOREDUCTASE       0.63      0.70      0.67       946\n",
        "                      PROTEIN BINDING       0.31      0.26      0.28       320\n",
        "                    SIGNALING PROTEIN       0.37      0.33      0.35       415\n",
        "                        TRANSCRIPTION       0.42      0.43      0.42       454\n",
        "                          TRANSFERASE       0.61      0.65      0.63      1466\n",
        "                    TRANSPORT PROTEIN       0.46      0.38      0.42       359\n",
        "\n",
        "                            micro avg       0.60      0.60      0.60      7456\n",
        "                            macro avg       0.52      0.49      0.50      7456\n",
        "                         weighted avg       0.59      0.60      0.59      7456\n",
        "                         "
      ],
      "metadata": {
        "id": "uFK8fCC7Boqv"
      }
    },
    {
      "cell_type": "markdown",
      "source": [],
      "metadata": {
        "id": "7CMbOpyT_r-A"
      }
    }
  ]
}